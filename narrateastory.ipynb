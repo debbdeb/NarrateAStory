{
 "cells": [
  {
   "cell_type": "code",
   "execution_count": null,
   "id": "c73573c5",
   "metadata": {},
   "outputs": [],
   "source": []
  },
  {
   "cell_type": "code",
   "execution_count": 1,
   "id": "9353a694",
   "metadata": {},
   "outputs": [
    {
     "name": "stdout",
     "output_type": "stream",
     "text": [
      "Current working directory: C:\\backup\\narrateastory\n"
     ]
    }
   ],
   "source": [
    "# !pip install owlrl\n",
    "import os\n",
    "\n",
    "# Specify the desired directory\n",
    "directory_path = r\"C:\\backup\\narrateastory\"\n",
    "\n",
    "# Change the current working directory\n",
    "os.chdir(directory_path)\n",
    "\n",
    "# Verify the change\n",
    "current_directory = os.getcwd()\n",
    "print(\"Current working directory:\", current_directory)\n",
    "\n",
    "\n",
    "from rdflib import Graph, Namespace, RDF, RDFS, OWL, Literal\n",
    "from rdflib.plugins import stores\n",
    "import csv\n",
    "\n"
   ]
  },
  {
   "cell_type": "code",
   "execution_count": null,
   "id": "eb8c815d",
   "metadata": {},
   "outputs": [],
   "source": []
  },
  {
   "cell_type": "code",
   "execution_count": 2,
   "id": "db5b439e",
   "metadata": {},
   "outputs": [
    {
     "name": "stdout",
     "output_type": "stream",
     "text": [
      "Inferred: http://narrateastory.com/heritageontology#nathula http://narrateastory.com/heritageontology#hasAncientTradeRoute http://narrateastory.com/heritageontology#Tamralipta\n",
      "Inferred: http://narrateastory.com/heritageontology#nathula http://narrateastory.com/heritageontology#hasAncientTradeRoute http://narrateastory.com/heritageontology#Saptagram\n"
     ]
    }
   ],
   "source": [
    "import csv\n",
    "from rdflib import Graph, Literal, Namespace, RDF, RDFS, OWL, URIRef\n",
    "\n",
    "# Create the RDF graph and define the namespaces\n",
    "rdf_graph = Graph()\n",
    "ex = Namespace(\"http://narrateastory.com/heritageontology#\")\n",
    "\n",
    "rdf_graph.bind(\"ex\", ex)\n",
    "rdf_graph.bind(\"owl\", OWL)\n",
    "rdf_graph.bind(\"rdfs\", RDFS)\n",
    "\n",
    "# Define inferred_triples at a higher scope\n",
    "inferred_triples = set()\n",
    "\n",
    "# Function to infer transitive closure\n",
    "def infer_transitive_closure(graph, property_uri, visited_triples=None):\n",
    "    if visited_triples is None:\n",
    "        visited_triples = set()\n",
    "\n",
    "    global inferred_triples  # Reference the global variable\n",
    "    for s1, p, o1 in graph.triples((None, property_uri, None)):\n",
    "        for s2, _, o2 in graph.triples((None, property_uri, s1)):\n",
    "            inferred_triple = (s2, property_uri, o1)\n",
    "            if inferred_triple not in visited_triples:\n",
    "                graph.add(inferred_triple)\n",
    "                inferred_triples.add(inferred_triple)\n",
    "                print(f\"Inferred: {inferred_triple[0]} {inferred_triple[1]} {inferred_triple[2]}\")\n",
    "                visited_triples.add(inferred_triple)\n",
    "                # Recursively check for more transitive closure\n",
    "                infer_transitive_closure(graph, property_uri, visited_triples)\n",
    "\n",
    "# Read the CSV file and build the ontology\n",
    "with open(\"markers_data.csv\", \"r\", encoding=\"utf-8-sig\") as csvfile:\n",
    "    reader = csv.DictReader(csvfile)\n",
    "\n",
    "    for row in reader:\n",
    "        subject = row[\"subject\"].replace(\" \", \"_\")\n",
    "        relation = row[\"relation\"]\n",
    "        obj = row[\"obj\"].replace(\" \", \"_\")\n",
    "\n",
    "        subject_uri = ex[subject]\n",
    "        obj_uri = ex[obj]\n",
    "\n",
    "        # Check if the relation is \"isa\" to determine superclass-subclass relationship\n",
    "        if relation.lower() == \"isa\":\n",
    "            # Check if the subclass relation already exists to avoid conflicts\n",
    "            if (subject_uri, RDFS.subClassOf, obj_uri) not in rdf_graph and (obj_uri, RDFS.subClassOf, subject_uri) not in rdf_graph:\n",
    "                rdf_graph.add((subject_uri, RDF.type, OWL.Class))\n",
    "                rdf_graph.add((obj_uri, RDF.type, OWL.Class))\n",
    "                rdf_graph.add((obj_uri, RDFS.subClassOf, subject_uri))\n",
    "                inferred_triples.add((subject_uri, RDFS.subClassOf, obj_uri))\n",
    "            else:\n",
    "                print(f\"Conflict detected: {subject} {relation} {obj}. Skipping.\")\n",
    "\n",
    "        else:\n",
    "            # Check if the reverse relation exists to avoid conflicts\n",
    "            if (obj_uri, ex[relation], subject_uri) not in rdf_graph:\n",
    "                # Add subject and obj classes\n",
    "                rdf_graph.add((subject_uri, RDF.type, OWL.Class))\n",
    "                rdf_graph.add((obj_uri, RDF.type, OWL.Class))\n",
    "\n",
    "                # Add relation property\n",
    "                relation_uri = ex[relation]\n",
    "                rdf_graph.add((relation_uri, RDF.type, OWL.ObjectProperty))\n",
    "\n",
    "                # Add individual instances\n",
    "                rdf_graph.add((subject_uri, RDF.type, subject_uri))\n",
    "                rdf_graph.add((obj_uri, RDF.type, obj_uri))\n",
    "\n",
    "                # Add relation between subject and obj classes\n",
    "                rdf_graph.add((subject_uri, relation_uri, obj_uri))\n",
    "\n",
    "                # Add relation between subject and obj instances\n",
    "                rdf_graph.add((subject_uri, relation_uri, obj_uri))\n",
    "                inferred_triples.add((subject_uri, relation_uri, obj_uri))\n",
    "\n",
    "                # Add additional properties as RDFS:seeAlso\n",
    "                if \"timePeriod\" in row:\n",
    "                    rdf_graph.add((subject_uri, RDFS.seeAlso, Literal(row[\"timePeriod\"])))\n",
    "                if \"lat\" in row and \"long\" in row:\n",
    "                    rdf_graph.add((subject_uri, RDFS.seeAlso, Literal(f\"Lat: {row['lat']}, Long: {row['long']}\")))\n",
    "                if \"utube_link\" in row:\n",
    "                    rdf_graph.add((subject_uri, RDFS.seeAlso, URIRef(row[\"utube_link\"])))\n",
    "                if \"further_reading\" in row:\n",
    "                    rdf_graph.add((subject_uri, RDFS.seeAlso, URIRef(row[\"further_reading\"])))\n",
    "                if \"current_name_of_place\" in row:\n",
    "                    rdf_graph.add((subject_uri, RDFS.seeAlso, Literal(row[\"current_name_of_place\"])))\n",
    "\n",
    "            else:\n",
    "                print(f\"Conflict detected: {subject} {relation} {obj}. Skipping.\")\n",
    "\n",
    "# Infer transitive closure for \"hasAncientTradeRoute\" (not \"hasAncientTradeRoutes\")\n",
    "infer_transitive_closure(rdf_graph, ex.hasAncientTradeRoute)\n",
    "\n",
    "# Save the entire inferred graph to an RDF file\n",
    "rdf_graph.serialize(destination=\"inferredtriples.owl\", format=\"xml\")\n",
    "\n",
    "# Save the inferred triples to a CSV file\n",
    "with open(\"inferredtriples.csv\", \"a\", encoding=\"utf-8-sig\", newline=\"\") as csvfile:\n",
    "    csv_writer = csv.writer(csvfile, delimiter=\",\")\n",
    "    for inferred_triple in inferred_triples:\n",
    "        if not inferred_triple[0].endswith(\"_instance\") and not inferred_triple[2].endswith(\"_instance\"):\n",
    "            csv_writer.writerow([inferred_triple[0].split(\"#\")[1], inferred_triple[1].split(\"#\")[1], inferred_triple[2].split(\"#\")[1]])\n"
   ]
  },
  {
   "cell_type": "code",
   "execution_count": null,
   "id": "384b9ae8",
   "metadata": {},
   "outputs": [],
   "source": []
  },
  {
   "cell_type": "code",
   "execution_count": null,
   "id": "256ef60c",
   "metadata": {},
   "outputs": [],
   "source": []
  },
  {
   "cell_type": "code",
   "execution_count": null,
   "id": "29cdd7fb",
   "metadata": {},
   "outputs": [],
   "source": []
  },
  {
   "cell_type": "code",
   "execution_count": 8,
   "id": "14095b7d",
   "metadata": {},
   "outputs": [],
   "source": []
  },
  {
   "cell_type": "code",
   "execution_count": null,
   "id": "e9a8a454",
   "metadata": {},
   "outputs": [],
   "source": []
  }
 ],
 "metadata": {
  "kernelspec": {
   "display_name": "Python 3 (ipykernel)",
   "language": "python",
   "name": "python3"
  },
  "language_info": {
   "codemirror_mode": {
    "name": "ipython",
    "version": 3
   },
   "file_extension": ".py",
   "mimetype": "text/x-python",
   "name": "python",
   "nbconvert_exporter": "python",
   "pygments_lexer": "ipython3",
   "version": "3.10.9"
  }
 },
 "nbformat": 4,
 "nbformat_minor": 5
}
